{
  "nbformat": 4,
  "nbformat_minor": 0,
  "metadata": {
    "colab": {
      "provenance": []
    },
    "kernelspec": {
      "name": "python3",
      "display_name": "Python 3"
    },
    "language_info": {
      "name": "python"
    }
  },
  "cells": [
    {
      "cell_type": "code",
      "source": [
        "!pip install torchmetrics #  Installation pacakage"
      ],
      "metadata": {
        "colab": {
          "base_uri": "https://localhost:8080/"
        },
        "id": "VjzOVJKibFUv",
        "outputId": "de88698e-1ec2-42fe-9d73-d674c4a7d0da"
      },
      "execution_count": null,
      "outputs": [
        {
          "output_type": "stream",
          "name": "stdout",
          "text": [
            "Collecting torchmetrics\n",
            "  Downloading torchmetrics-1.5.1-py3-none-any.whl.metadata (20 kB)\n",
            "Requirement already satisfied: numpy<2.0,>1.20.0 in /usr/local/lib/python3.10/dist-packages (from torchmetrics) (1.26.4)\n",
            "Requirement already satisfied: packaging>17.1 in /usr/local/lib/python3.10/dist-packages (from torchmetrics) (24.1)\n",
            "Requirement already satisfied: torch>=1.10.0 in /usr/local/lib/python3.10/dist-packages (from torchmetrics) (2.5.0+cu121)\n",
            "Collecting lightning-utilities>=0.8.0 (from torchmetrics)\n",
            "  Downloading lightning_utilities-0.11.8-py3-none-any.whl.metadata (5.2 kB)\n",
            "Requirement already satisfied: setuptools in /usr/local/lib/python3.10/dist-packages (from lightning-utilities>=0.8.0->torchmetrics) (75.1.0)\n",
            "Requirement already satisfied: typing-extensions in /usr/local/lib/python3.10/dist-packages (from lightning-utilities>=0.8.0->torchmetrics) (4.12.2)\n",
            "Requirement already satisfied: filelock in /usr/local/lib/python3.10/dist-packages (from torch>=1.10.0->torchmetrics) (3.16.1)\n",
            "Requirement already satisfied: networkx in /usr/local/lib/python3.10/dist-packages (from torch>=1.10.0->torchmetrics) (3.4.2)\n",
            "Requirement already satisfied: jinja2 in /usr/local/lib/python3.10/dist-packages (from torch>=1.10.0->torchmetrics) (3.1.4)\n",
            "Requirement already satisfied: fsspec in /usr/local/lib/python3.10/dist-packages (from torch>=1.10.0->torchmetrics) (2024.10.0)\n",
            "Requirement already satisfied: sympy==1.13.1 in /usr/local/lib/python3.10/dist-packages (from torch>=1.10.0->torchmetrics) (1.13.1)\n",
            "Requirement already satisfied: mpmath<1.4,>=1.1.0 in /usr/local/lib/python3.10/dist-packages (from sympy==1.13.1->torch>=1.10.0->torchmetrics) (1.3.0)\n",
            "Requirement already satisfied: MarkupSafe>=2.0 in /usr/local/lib/python3.10/dist-packages (from jinja2->torch>=1.10.0->torchmetrics) (3.0.2)\n",
            "Downloading torchmetrics-1.5.1-py3-none-any.whl (890 kB)\n",
            "\u001b[2K   \u001b[90m━━━━━━━━━━━━━━━━━━━━━━━━━━━━━━━━━━━━━━━━\u001b[0m \u001b[32m890.6/890.6 kB\u001b[0m \u001b[31m13.1 MB/s\u001b[0m eta \u001b[36m0:00:00\u001b[0m\n",
            "\u001b[?25hDownloading lightning_utilities-0.11.8-py3-none-any.whl (26 kB)\n",
            "Installing collected packages: lightning-utilities, torchmetrics\n",
            "Successfully installed lightning-utilities-0.11.8 torchmetrics-1.5.1\n"
          ]
        }
      ]
    },
    {
      "cell_type": "code",
      "execution_count": 44,
      "metadata": {
        "colab": {
          "base_uri": "https://localhost:8080/"
        },
        "id": "4IXPHo3WaXBu",
        "outputId": "64347215-b2ae-4301-f59a-9e091f2fb29d"
      },
      "outputs": [
        {
          "output_type": "stream",
          "name": "stdout",
          "text": [
            "Cloning into 'EE5179-Deep-Learning-for-Imaging_KLA_Project'...\n",
            "remote: Enumerating objects: 69, done.\u001b[K\n",
            "remote: Counting objects: 100% (69/69), done.\u001b[K\n",
            "remote: Compressing objects: 100% (68/68), done.\u001b[K\n",
            "remote: Total 69 (delta 39), reused 0 (delta 0), pack-reused 0 (from 0)\u001b[K\n",
            "Receiving objects: 100% (69/69), 4.85 MiB | 14.64 MiB/s, done.\n",
            "Resolving deltas: 100% (39/39), done.\n",
            "/content/EE5179-Deep-Learning-for-Imaging_KLA_Project/EE5179-Deep-Learning-for-Imaging_KLA_Project/EE5179-Deep-Learning-for-Imaging_KLA_Project/EE5179-Deep-Learning-for-Imaging_KLA_Project/EE5179-Deep-Learning-for-Imaging_KLA_Project/EE5179-Deep-Learning-for-Imaging_KLA_Project/EE5179-Deep-Learning-for-Imaging_KLA_Project/EE5179-Deep-Learning-for-Imaging_KLA_Project/EE5179-Deep-Learning-for-Imaging_KLA_Project/EE5179-Deep-Learning-for-Imaging_KLA_Project/EE5179-Deep-Learning-for-Imaging_KLA_Project/EE5179-Deep-Learning-for-Imaging_KLA_Project/EE5179-Deep-Learning-for-Imaging_KLA_Project/EE5179-Deep-Learning-for-Imaging_KLA_Project/EE5179-Deep-Learning-for-Imaging_KLA_Project/EE5179-Deep-Learning-for-Imaging_KLA_Project/EE5179-Deep-Learning-for-Imaging_KLA_Project/EE5179-Deep-Learning-for-Imaging_KLA_Project\n"
          ]
        }
      ],
      "source": [
        "!git clone https://github.com/Tarang-Mendhe/EE5179-Deep-Learning-for-Imaging_KLA_Project\n",
        "%cd EE5179-Deep-Learning-for-Imaging_KLA_Project\n"
      ]
    },
    {
      "cell_type": "code",
      "source": [
        "# Mount Google drive if necessory"
      ],
      "metadata": {
        "id": "fVm8C5RpC9Om"
      },
      "execution_count": null,
      "outputs": []
    },
    {
      "cell_type": "code",
      "source": [
        "#Syntax\n",
        "#python test.py --input_dir path/to/input/images --weights path/to/model_weights.pth --output_dir path/to/output\n",
        "\n",
        "#Example\n",
        "#!python test.py /content/drive/MyDrive/Denoising_Dataset_train_val/Denoising_Dataset_train_val /content/EE5179-Deep-Learning-for-Imaging_KLA_Project/best_model.pth /content/drive/MyDrive/Output_best_model"
      ],
      "metadata": {
        "colab": {
          "base_uri": "https://localhost:8080/"
        },
        "id": "avV4n7JCdPSH",
        "outputId": "1eaf6d26-fab3-475e-e467-e2514da8d852"
      },
      "execution_count": 45,
      "outputs": [
        {
          "output_type": "stream",
          "name": "stdout",
          "text": [
            "torch.Size([1, 3, 256, 256])\n",
            "/content/EE5179-Deep-Learning-for-Imaging_KLA_Project/EE5179-Deep-Learning-for-Imaging_KLA_Project/EE5179-Deep-Learning-for-Imaging_KLA_Project/EE5179-Deep-Learning-for-Imaging_KLA_Project/EE5179-Deep-Learning-for-Imaging_KLA_Project/EE5179-Deep-Learning-for-Imaging_KLA_Project/EE5179-Deep-Learning-for-Imaging_KLA_Project/EE5179-Deep-Learning-for-Imaging_KLA_Project/EE5179-Deep-Learning-for-Imaging_KLA_Project/EE5179-Deep-Learning-for-Imaging_KLA_Project/EE5179-Deep-Learning-for-Imaging_KLA_Project/EE5179-Deep-Learning-for-Imaging_KLA_Project/EE5179-Deep-Learning-for-Imaging_KLA_Project/EE5179-Deep-Learning-for-Imaging_KLA_Project/EE5179-Deep-Learning-for-Imaging_KLA_Project/EE5179-Deep-Learning-for-Imaging_KLA_Project/EE5179-Deep-Learning-for-Imaging_KLA_Project/EE5179-Deep-Learning-for-Imaging_KLA_Project/test.py:82: FutureWarning: You are using `torch.load` with `weights_only=False` (the current default value), which uses the default pickle module implicitly. It is possible to construct malicious pickle data which will execute arbitrary code during unpickling (See https://github.com/pytorch/pytorch/blob/main/SECURITY.md#untrusted-models for more details). In a future release, the default value for `weights_only` will be flipped to `True`. This limits the functions that could be executed during unpickling. Arbitrary objects will no longer be allowed to be loaded via this mode unless they are explicitly allowlisted by the user via `torch.serialization.add_safe_globals`. We recommend you start setting `weights_only=True` for any use case where you don't have full control of the loaded file. Please open an issue on GitHub for any issues related to this experimental feature.\n",
            "  model.load_state_dict(torch.load(model_weights_path, map_location=device))\n",
            "INFO:root:Results saved to /content/drive/MyDrive/Output_best_model/metrics_results.txt\n",
            "INFO:root:Overall PSNR: 16.1607, Overall SSIM: 0.6309\n",
            "INFO:root:Overall Masked PSNR: 34.7790, Overall Masked SSIM: 0.9833\n"
          ]
        }
      ]
    }
  ]
}